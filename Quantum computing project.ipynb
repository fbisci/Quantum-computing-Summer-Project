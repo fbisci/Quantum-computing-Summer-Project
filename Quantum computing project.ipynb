{
 "cells": [
  {
   "cell_type": "markdown",
   "id": "cfc8d114",
   "metadata": {},
   "source": [
    "# Connecting to the Quantum computer"
   ]
  },
  {
   "cell_type": "code",
   "execution_count": 1,
   "id": "5df84372",
   "metadata": {},
   "outputs": [],
   "source": [
    "import qiskit as qk\n",
    "%matplotlib inline"
   ]
  },
  {
   "cell_type": "code",
   "execution_count": 3,
   "id": "1fefc582",
   "metadata": {},
   "outputs": [
    {
     "name": "stderr",
     "output_type": "stream",
     "text": [
      "configrc.store_credentials:WARNING:2022-07-27 15:37:59,723: Credentials already present. Set overwrite=True to overwrite.\n"
     ]
    }
   ],
   "source": [
    "#qk.IBMQ.save_account(open('account','r'))"
   ]
  },
  {
   "cell_type": "code",
   "execution_count": 4,
   "id": "1f8b91b5",
   "metadata": {},
   "outputs": [
    {
     "data": {
      "text/plain": [
       "<bound method IBMQFactory.load_account of <qiskit.providers.ibmq.ibmqfactory.IBMQFactory object at 0x7ff32fcb47c0>>"
      ]
     },
     "execution_count": 4,
     "metadata": {},
     "output_type": "execute_result"
    }
   ],
   "source": [
    "qk.IBMQ.load_account"
   ]
  },

 ],
 "metadata": {
  "kernelspec": {
   "display_name": "Python 3 (ipykernel)",
   "language": "python",
   "name": "python3"
  },
  "language_info": {
   "codemirror_mode": {
    "name": "ipython",
    "version": 3
   },
   "file_extension": ".py",
   "mimetype": "text/x-python",
   "name": "python",
   "nbconvert_exporter": "python",
   "pygments_lexer": "ipython3",
   "version": "3.9.7"
  }
 },
 "nbformat": 4,
 "nbformat_minor": 5
}
