{
 "cells": [
  {
   "cell_type": "markdown",
   "id": "6f774123",
   "metadata": {},
   "source": [
    "# Quantum Teleportation\n",
    "## theoretical aspect\n",
    "let $\\Psi$ be the qubit Quantum state of ALEX. ALEX wants to teleport her qubit state $\\Psi$ to BOB. The problem is Alex do not know her own quantum state. If Alex go ahead and measure the message, she will collape in to either $| 1 \\rangle$ or $| 0 \\rangle$. One more important information is that Alex and BOB share an engtangle quantum qubit.\n",
    "\n",
    "$| \\Psi \\rangle = a*|0\\rangle +b* |1\\rangle$ be the quantum state that ALEX does not know and she want to sent this quantum state to BOB.\n",
    "\n",
    "The set up is as follow\n",
    "\n",
    "1 : $| \\Psi \\rangle$---------------------------------\n",
    "\n",
    "2 : $| 0 \\rangle$---------------------------------\n",
    "\n",
    "3 : $| 0 \\rangle$---------------------------------\n",
    "\n",
    "\n",
    "\n",
    "where the 2 qubit are engtangle"
   ]
  },
  {
   "cell_type": "code",
   "execution_count": 1,
   "id": "1de511a5",
   "metadata": {
    "scrolled": true
   },
   "outputs": [
    {
     "data": {
      "text/plain": [
       "<AccountProvider for IBMQ(hub='ibm-q', group='open', project='main')>"
      ]
     },
     "execution_count": 1,
     "metadata": {},
     "output_type": "execute_result"
    }
   ],
   "source": [
    "import qiskit as q\n",
    "import matplotlib as mpl\n",
    "#q.IBMQ.save_account(\"your_account.txt\",\"r\") this will save your IBM quantum computing account\n",
    "q.IBMQ.load_account()"
   ]
  },
  {
   "cell_type": "code",
   "execution_count": 2,
   "id": "2d097cdf",
   "metadata": {},
   "outputs": [
    {
     "name": "stdout",
     "output_type": "stream",
     "text": [
      "ibmq_qasm_simulator has 5 quered and simulated qubits\n",
      "ibmq_lima has 53 quered and 5 qubits\n",
      "ibmq_belem has 57 quered and 5 qubits\n",
      "ibmq_quito has 63 quered and 5 qubits\n",
      "simulator_statevector has 5 quered and simulated qubits\n",
      "simulator_mps has 5 quered and simulated qubits\n",
      "simulator_extended_stabilizer has 5 quered and simulated qubits\n",
      "simulator_stabilizer has 5 quered and simulated qubits\n",
      "ibmq_manila has 51 quered and 5 qubits\n",
      "ibm_nairobi has 163 quered and 7 qubits\n",
      "ibm_oslo has 61 quered and 7 qubits\n"
     ]
    }
   ],
   "source": [
    "provider= q.IBMQ.get_provider(\"ibm-q\")\n",
    "for backend in provider.backends():\n",
    "    try:\n",
    "        qubit_count= len(backend.properties().qubits)\n",
    "    except:\n",
    "        qubit_count=\"simulated\"\n",
    "    print(f\"{backend.name()} has {backend.status().pending_jobs} quered and {qubit_count} qubits\")"
   ]
  },
  {
   "cell_type": "code",
   "execution_count": 3,
   "id": "b383533c",
   "metadata": {},
   "outputs": [],
   "source": [
    "n_qubit=q.QuantumRegister(3)\n",
    "n_classic=q.ClassicalRegister(3)\n",
    "circuit= q.QuantumCircuit(n_qubit,n_classic)"
   ]
  },
  {
   "cell_type": "code",
   "execution_count": 4,
   "id": "ec89c3ff",
   "metadata": {
    "scrolled": true
   },
   "outputs": [
    {
     "data": {
      "text/plain": [
       "<qiskit.circuit.instructionset.InstructionSet at 0x7f780df98100>"
      ]
     },
     "execution_count": 4,
     "metadata": {},
     "output_type": "execute_result"
    }
   ],
   "source": [
    "circuit.h(1)\n",
    "circuit.cnot(1,2)"
   ]
  },
  {
   "cell_type": "code",
   "execution_count": 5,
   "id": "2cafb517",
   "metadata": {},
   "outputs": [
    {
     "data": {
      "text/plain": [
       "<qiskit.circuit.instructionset.InstructionSet at 0x7f780ff5c200>"
      ]
     },
     "execution_count": 5,
     "metadata": {},
     "output_type": "execute_result"
    }
   ],
   "source": [
    "circuit.cnot(0,1)\n",
    "circuit.h(0)\n"
   ]
  },
  {
   "cell_type": "code",
   "execution_count": 6,
   "id": "d9e5d4da",
   "metadata": {},
   "outputs": [
    {
     "data": {
      "text/plain": [
       "<qiskit.circuit.instructionset.InstructionSet at 0x7f780ff5ce80>"
      ]
     },
     "execution_count": 6,
     "metadata": {},
     "output_type": "execute_result"
    }
   ],
   "source": [
    "circuit.measure([0,1],[0,1])"
   ]
  },
  {
   "cell_type": "code",
   "execution_count": 7,
   "id": "0d5a051f",
   "metadata": {},
   "outputs": [
    {
     "data": {
      "image/png": "[encoded data removed]",
      "text/plain": [
       "<Figure size 400.578x264.88 with 1 Axes>"
      ]
     },
     "execution_count": 7,
     "metadata": {},
     "output_type": "execute_result"
    }
   ],
   "source": [
    "circuit.draw('mpl')"
   ]
  },
  {
   "cell_type": "code",
   "execution_count": null,
   "id": "07361190",
   "metadata": {},
   "outputs": [],
   "source": [
    "result= q.execute(circuit, backend= q.Aer.get_backend('simulator_statevector'), shots=1000).result()"
   ]
  }
 ],
 "metadata": {
  "kernelspec": {
   "display_name": "Python 3 (ipykernel)",
   "language": "python",
   "name": "python3"
  },
  "language_info": {
   "codemirror_mode": {
    "name": "ipython",
    "version": 3
   },
   "file_extension": ".py",
   "mimetype": "text/x-python",
   "name": "python",
   "nbconvert_exporter": "python",
   "pygments_lexer": "ipython3",
   "version": "3.9.7"
  }
 },
 "nbformat": 4,
 "nbformat_minor": 5
}
