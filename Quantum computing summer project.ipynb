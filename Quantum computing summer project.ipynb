{
 "cells": [
  {
   "cell_type": "markdown",
   "id": "6f774123",
   "metadata": {},
   "source": [
    "# Quantum Teleportation\n",
    "## theoretical aspect\n",
    "let $\\Psi$ be the qubit Quantum state of ALEX. ALEX wants to teleport her qubit state $\\Psi$ to BOB. The problem is Alex do not know her own quantum state. If Alex go ahead and measure the message, she will collape in to either $| 1 \\rangle$ or $| 0 \\rangle$. One more important information is that Alex and BOB share an engtangle quantum qubit.\n",
    "\n",
    "$| \\Psi \\rangle = a*|0\\rangle +b* |1\\rangle$ be the quantum state that ALEX does not know and she want to sent this quantum state to BOB.\n",
    "\n",
    "\n",
    "\n",
    "Generally, $| B_{xy} \\rangle=\\frac{| 0,x \\rangle +(-1)^x| 1,y \\rangle}{\\sqrt{2}}$\n",
    "\n",
    "from the definition above, we have $| B_{00} \\rangle= \\frac{| 00 \\rangle +| 11 \\rangle}{\\sqrt{2}}$\n",
    "\n",
    "\n",
    "the set up is as follow\n",
    "\n",
    "we need 3 qubits 2 of which are entangled. Alex will hold one the the entangle qubit and bob will hold another entangle qubit.\n",
    "\n"
   ]
  },
  {
   "cell_type": "code",
   "execution_count": 25,
   "id": "1de511a5",
   "metadata": {
    "scrolled": true
   },
   "outputs": [
    {
     "name": "stderr",
     "output_type": "stream",
     "text": [
      "ibmqfactory.load_account:WARNING:2022-08-12 22:19:49,769: Credentials are already in use. The existing account in the session will be replaced.\n"
     ]
    },
    {
     "data": {
      "text/plain": [
       "<AccountProvider for IBMQ(hub='ibm-q', group='open', project='main')>"
      ]
     },
     "execution_count": 25,
     "metadata": {},
     "output_type": "execute_result"
    }
   ],
   "source": [
    "import qiskit as q\n",
    "import matplotlib as mpl\n",
    "#q.IBMQ.save_account(\"your_account.txt\",\"r\") this will save your IBM quantum computing account\n",
    "q.IBMQ.load_account()"
   ]
  },
  {
   "cell_type": "code",
   "execution_count": 26,
   "id": "2d097cdf",
   "metadata": {},
   "outputs": [
    {
     "name": "stdout",
     "output_type": "stream",
     "text": [
      "ibmq_qasm_simulator has 3 quered and simulated qubits\n",
      "ibmq_lima has 78 quered and 5 qubits\n",
      "ibmq_belem has 58 quered and 5 qubits\n",
      "ibmq_quito has 57 quered and 5 qubits\n",
      "simulator_statevector has 4 quered and simulated qubits\n",
      "simulator_mps has 4 quered and simulated qubits\n",
      "simulator_extended_stabilizer has 4 quered and simulated qubits\n",
      "simulator_stabilizer has 4 quered and simulated qubits\n",
      "ibmq_manila has 69 quered and 5 qubits\n",
      "ibm_nairobi has 139 quered and 7 qubits\n",
      "ibm_oslo has 76 quered and 7 qubits\n"
     ]
    }
   ],
   "source": [
    "provider= q.IBMQ.get_provider(\"ibm-q\")\n",
    "for backend in provider.backends():\n",
    "    try:\n",
    "        qubit_count= len(backend.properties().qubits)\n",
    "    except:\n",
    "        qubit_count=\"simulated\"\n",
    "    print(f\"{backend.name()} has {backend.status().pending_jobs} quered and {qubit_count} qubits\")"
   ]
  },
  {
   "cell_type": "code",
   "execution_count": 15,
   "id": "b383533c",
   "metadata": {},
   "outputs": [],
   "source": [
    "n_qubit=q.QuantumRegister(3)\n",
    "n_classic=q.ClassicalRegister(3)\n",
    "circuit= q.QuantumCircuit(n_qubit,n_classic)"
   ]
  },
  {
   "cell_type": "code",
   "execution_count": 16,
   "id": "ec89c3ff",
   "metadata": {
    "scrolled": true
   },
   "outputs": [
    {
     "data": {
      "text/plain": [
       "<qiskit.circuit.instructionset.InstructionSet at 0x7fcb12825940>"
      ]
     },
     "execution_count": 16,
     "metadata": {},
     "output_type": "execute_result"
    }
   ],
   "source": [
    "circuit.h(1)\n",
    "circuit.cnot(1,2)"
   ]
  },
  {
   "cell_type": "code",
   "execution_count": 17,
   "id": "2cafb517",
   "metadata": {},
   "outputs": [
    {
     "data": {
      "text/plain": [
       "<qiskit.circuit.instructionset.InstructionSet at 0x7fcb11fe77c0>"
      ]
     },
     "execution_count": 17,
     "metadata": {},
     "output_type": "execute_result"
    }
   ],
   "source": [
    "circuit.cnot(0,1)\n",
    "circuit.h(0)\n"
   ]
  },
  {
   "cell_type": "code",
   "execution_count": 18,
   "id": "d9e5d4da",
   "metadata": {},
   "outputs": [
    {
     "data": {
      "text/plain": [
       "<qiskit.circuit.instructionset.InstructionSet at 0x7fcb12e92d00>"
      ]
     },
     "execution_count": 18,
     "metadata": {},
     "output_type": "execute_result"
    }
   ],
   "source": [
    "circuit.measure([0,1],[0,1])"
   ]
  },
  {
   "cell_type": "code",
   "execution_count": 19,
   "id": "3e249fc2",
   "metadata": {},
   "outputs": [
    {
     "data": {
      "text/plain": [
       "<qiskit.circuit.instructionset.InstructionSet at 0x7fcb131d2200>"
      ]
     },
     "execution_count": 19,
     "metadata": {},
     "output_type": "execute_result"
    }
   ],
   "source": [
    "circuit.cx(1,2)\n",
    "circuit.cz(0,2)\n",
    "circuit.measure(2,2)"
   ]
  },
  {
   "cell_type": "code",
   "execution_count": 20,
   "id": "0d5a051f",
   "metadata": {},
   "outputs": [
    {
     "data": {
      "image/png": "[encoded data removed]",
      "text/plain": [
       "<Figure size 581.323x264.88 with 1 Axes>"
      ]
     },
     "execution_count": 20,
     "metadata": {},
     "output_type": "execute_result"
    }
   ],
   "source": [
    "circuit.draw('mpl')"
   ]
  },
  {
   "cell_type": "code",
   "execution_count": 31,
   "id": "07361190",
   "metadata": {},
   "outputs": [
    {
     "name": "stdout",
     "output_type": "stream",
     "text": [
      "Job Status: job has successfully run\n"
     ]
    }
   ],
   "source": [
    "backend=provider.get_backend(\"ibmq_qasm_simulator\")\n",
    "result= q.execute(circuit, backend= backend, shots=500)\n",
    "q.tools.monitor.job_monitor(result)"
   ]
  },
  {
   "cell_type": "code",
   "execution_count": 33,
   "id": "d7190ae7",
   "metadata": {},
   "outputs": [
    {
     "data": {
      "image/png": "[encoded data removed]",
      "text/plain": [
       "<Figure size 504x360 with 1 Axes>"
      ]
     },
     "execution_count": 33,
     "metadata": {},
     "output_type": "execute_result"
    }
   ],
   "source": [
    "q.visualization.plot_histogram(result.result().get_counts())"
   ]
  },
  {
   "cell_type": "markdown",
   "id": "e03e4a32",
   "metadata": {},
   "source": [
    "# Glover Algorishm\n",
    "## Theretical Aspect"
   ]
  },
  {
   "cell_type": "code",
   "execution_count": null,
   "id": "a231d08c",
   "metadata": {},
   "outputs": [],
   "source": []
  },
  {
   "cell_type": "code",
   "execution_count": null,
   "id": "81c4d138",
   "metadata": {},
   "outputs": [],
   "source": []
  },
  {
   "cell_type": "code",
   "execution_count": null,
   "id": "6d68cbe8",
   "metadata": {},
   "outputs": [],
   "source": []
  },
  {
   "cell_type": "code",
   "execution_count": null,
   "id": "ebe296ec",
   "metadata": {},
   "outputs": [],
   "source": []
  }
 ],
 "metadata": {
  "kernelspec": {
   "display_name": "Python 3 (ipykernel)",
   "language": "python",
   "name": "python3"
  },
  "language_info": {
   "codemirror_mode": {
    "name": "ipython",
    "version": 3
   },
   "file_extension": ".py",
   "mimetype": "text/x-python",
   "name": "python",
   "nbconvert_exporter": "python",
   "pygments_lexer": "ipython3",
   "version": "3.9.7"
  }
 },
 "nbformat": 4,
 "nbformat_minor": 5
}
